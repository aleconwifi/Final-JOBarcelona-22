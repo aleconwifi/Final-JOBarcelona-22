{
 "cells": [
  {
   "cell_type": "code",
   "execution_count": 153,
   "metadata": {},
   "outputs": [],
   "source": [
    "from modelHandler import ModelHandler\n",
    "import pandas as pd  \n",
    "import numpy as np \n",
    "import sklearn as sk\n",
    "from sklearn.metrics import mean_squared_error, r2_score\n",
    "from xgboost import XGBRegressor"
   ]
  },
  {
   "cell_type": "code",
   "execution_count": 154,
   "metadata": {},
   "outputs": [],
   "source": [
    "df = pd.read_csv('../../data/Correlation05.csv', index_col = 0)"
   ]
  },
  {
   "cell_type": "markdown",
   "metadata": {},
   "source": [
    "## Group by Position"
   ]
  },
  {
   "cell_type": "markdown",
   "metadata": {},
   "source": [
    "Partiendo de la hipotesis que goles y asistencias tienen más peso para delanteros y mediocentros que para defensas y obviamente que para porteros, la división de estos grupos es fundamental.\n",
    "\n",
    "Creemos que es interesante realizar un modelo para cada posición del campo de futbol. Elegimos realizar una primera aproximación con modelos para:\n",
    "- Portero\n",
    "- Defensa i mediocentro defensivo\n",
    "- Mediocentros y bandas\n",
    "- Delanteros y extremos\n",
    "\n",
    "Otra configuración podria ser juntar mediocentros y delanteros. "
   ]
  },
  {
   "cell_type": "code",
   "execution_count": 156,
   "metadata": {},
   "outputs": [],
   "source": [
    "### group positon\n",
    "# Positions grouoped \n",
    "tre = { 'Goalkeeper' : 0,\n",
    "    'DefensiveMidfield': 1,'Defender' : 1,\n",
    " 'LeftMidfield':2 , 'CentralMidfield':2, 'Midfielder':2, 'AttackingMidfield':2,'RightMidfield' : 2,\n",
    "   'SecondStriker':3, 'Forward':3,'LeftWinger':3,'RightWinger' : 3}\n",
    "\n",
    "#Columns to drop for each class, futher explained in presentation\n",
    "cols_to_drop = {0: ['score_goal_cup', 'goal_continent', 'assist_continent', \n",
    "       'score_goal_champ', 'score_goals_selection', 'score_assist_cup',\n",
    "       'score_assist_champ','age','position', 'yellow_card_champ', 'yellow_card_cup', 'yellow_card_continent', 'league', 'own_goal_champ'], 1: ['score_goal_cup', 'goal_continent', 'assist_continent', \n",
    "       'score_goal_champ', 'score_goals_selection', 'score_assist_cup',\n",
    "       'score_assist_champ','age','position', 'league', 'own_goal_champ'], 2: None, 3: ['position', 'league', 'red_card_continent', 'own_goal_champ', 'yellow_card_champ',\n",
    "       'second_yellow_card_champ', 'red_card_champ', 'yellow_card_cup','own_goal_continent',\n",
    "       'yellow_card_continent', 'second_yellow_card_continent', ]}\n",
    "\n",
    "df['position'] = df['position'].apply(lambda x: tre[x])"
   ]
  },
  {
   "cell_type": "code",
   "execution_count": 157,
   "metadata": {},
   "outputs": [
    {
     "data": {
      "text/html": [
       "<div>\n",
       "<style scoped>\n",
       "    .dataframe tbody tr th:only-of-type {\n",
       "        vertical-align: middle;\n",
       "    }\n",
       "\n",
       "    .dataframe tbody tr th {\n",
       "        vertical-align: top;\n",
       "    }\n",
       "\n",
       "    .dataframe thead th {\n",
       "        text-align: right;\n",
       "    }\n",
       "</style>\n",
       "<table border=\"1\" class=\"dataframe\">\n",
       "  <thead>\n",
       "    <tr style=\"text-align: right;\">\n",
       "      <th></th>\n",
       "      <th>red_card_continent</th>\n",
       "      <th>price</th>\n",
       "      <th>own_goal_champ</th>\n",
       "      <th>yellow_card_champ</th>\n",
       "      <th>second_yellow_card_champ</th>\n",
       "      <th>red_card_champ</th>\n",
       "      <th>yellow_card_cup</th>\n",
       "      <th>goal_continent</th>\n",
       "      <th>assist_continent</th>\n",
       "      <th>own_goal_continent</th>\n",
       "      <th>...</th>\n",
       "      <th>second_yellow_card_continent</th>\n",
       "      <th>score_goal_cup</th>\n",
       "      <th>score_goal_champ</th>\n",
       "      <th>score_goals_selection</th>\n",
       "      <th>score_assist_cup</th>\n",
       "      <th>score_assist_champ</th>\n",
       "      <th>score_selections_nation</th>\n",
       "      <th>age</th>\n",
       "      <th>position</th>\n",
       "      <th>code_league</th>\n",
       "    </tr>\n",
       "  </thead>\n",
       "  <tbody>\n",
       "    <tr>\n",
       "      <th>count</th>\n",
       "      <td>8854.000000</td>\n",
       "      <td>8.854000e+03</td>\n",
       "      <td>8854.000000</td>\n",
       "      <td>8854.000000</td>\n",
       "      <td>8854.000000</td>\n",
       "      <td>8854.000000</td>\n",
       "      <td>8854.000000</td>\n",
       "      <td>8854.000000</td>\n",
       "      <td>8854.000000</td>\n",
       "      <td>8854.000000</td>\n",
       "      <td>...</td>\n",
       "      <td>8854.000000</td>\n",
       "      <td>8854.000000</td>\n",
       "      <td>8854.000000</td>\n",
       "      <td>8854.000000</td>\n",
       "      <td>8854.000000</td>\n",
       "      <td>8854.000000</td>\n",
       "      <td>8854.000000</td>\n",
       "      <td>8854.000000</td>\n",
       "      <td>8854.000000</td>\n",
       "      <td>8854.000000</td>\n",
       "    </tr>\n",
       "    <tr>\n",
       "      <th>mean</th>\n",
       "      <td>0.246103</td>\n",
       "      <td>1.612051e+06</td>\n",
       "      <td>0.098938</td>\n",
       "      <td>14.754009</td>\n",
       "      <td>0.424215</td>\n",
       "      <td>0.407499</td>\n",
       "      <td>0.857353</td>\n",
       "      <td>0.479105</td>\n",
       "      <td>0.459002</td>\n",
       "      <td>0.008019</td>\n",
       "      <td>...</td>\n",
       "      <td>0.973119</td>\n",
       "      <td>1.131522</td>\n",
       "      <td>15.196973</td>\n",
       "      <td>0.580416</td>\n",
       "      <td>0.923537</td>\n",
       "      <td>12.026372</td>\n",
       "      <td>5.707364</td>\n",
       "      <td>26.045968</td>\n",
       "      <td>1.684098</td>\n",
       "      <td>1.541450</td>\n",
       "    </tr>\n",
       "    <tr>\n",
       "      <th>std</th>\n",
       "      <td>1.843374</td>\n",
       "      <td>5.881306e+06</td>\n",
       "      <td>0.361250</td>\n",
       "      <td>17.824661</td>\n",
       "      <td>0.918985</td>\n",
       "      <td>0.819930</td>\n",
       "      <td>1.992781</td>\n",
       "      <td>2.190870</td>\n",
       "      <td>1.823347</td>\n",
       "      <td>0.095316</td>\n",
       "      <td>...</td>\n",
       "      <td>6.366863</td>\n",
       "      <td>3.131815</td>\n",
       "      <td>27.757299</td>\n",
       "      <td>2.522602</td>\n",
       "      <td>2.612913</td>\n",
       "      <td>22.397119</td>\n",
       "      <td>14.846162</td>\n",
       "      <td>4.564612</td>\n",
       "      <td>1.040544</td>\n",
       "      <td>0.744291</td>\n",
       "    </tr>\n",
       "    <tr>\n",
       "      <th>min</th>\n",
       "      <td>0.000000</td>\n",
       "      <td>2.500000e+04</td>\n",
       "      <td>0.000000</td>\n",
       "      <td>0.000000</td>\n",
       "      <td>0.000000</td>\n",
       "      <td>0.000000</td>\n",
       "      <td>0.000000</td>\n",
       "      <td>0.000000</td>\n",
       "      <td>0.000000</td>\n",
       "      <td>0.000000</td>\n",
       "      <td>...</td>\n",
       "      <td>0.000000</td>\n",
       "      <td>0.000000</td>\n",
       "      <td>0.000000</td>\n",
       "      <td>0.000000</td>\n",
       "      <td>0.000000</td>\n",
       "      <td>0.000000</td>\n",
       "      <td>0.000000</td>\n",
       "      <td>16.000000</td>\n",
       "      <td>0.000000</td>\n",
       "      <td>0.000000</td>\n",
       "    </tr>\n",
       "    <tr>\n",
       "      <th>25%</th>\n",
       "      <td>0.000000</td>\n",
       "      <td>1.000000e+05</td>\n",
       "      <td>0.000000</td>\n",
       "      <td>2.000000</td>\n",
       "      <td>0.000000</td>\n",
       "      <td>0.000000</td>\n",
       "      <td>0.000000</td>\n",
       "      <td>0.000000</td>\n",
       "      <td>0.000000</td>\n",
       "      <td>0.000000</td>\n",
       "      <td>...</td>\n",
       "      <td>0.000000</td>\n",
       "      <td>0.000000</td>\n",
       "      <td>0.000000</td>\n",
       "      <td>0.000000</td>\n",
       "      <td>0.000000</td>\n",
       "      <td>0.000000</td>\n",
       "      <td>0.000000</td>\n",
       "      <td>23.000000</td>\n",
       "      <td>1.000000</td>\n",
       "      <td>1.000000</td>\n",
       "    </tr>\n",
       "    <tr>\n",
       "      <th>50%</th>\n",
       "      <td>0.000000</td>\n",
       "      <td>3.000000e+05</td>\n",
       "      <td>0.000000</td>\n",
       "      <td>8.000000</td>\n",
       "      <td>0.000000</td>\n",
       "      <td>0.000000</td>\n",
       "      <td>0.000000</td>\n",
       "      <td>0.000000</td>\n",
       "      <td>0.000000</td>\n",
       "      <td>0.000000</td>\n",
       "      <td>...</td>\n",
       "      <td>0.000000</td>\n",
       "      <td>0.000000</td>\n",
       "      <td>4.000000</td>\n",
       "      <td>0.000000</td>\n",
       "      <td>0.000000</td>\n",
       "      <td>3.000000</td>\n",
       "      <td>0.000000</td>\n",
       "      <td>26.000000</td>\n",
       "      <td>2.000000</td>\n",
       "      <td>2.000000</td>\n",
       "    </tr>\n",
       "    <tr>\n",
       "      <th>75%</th>\n",
       "      <td>0.000000</td>\n",
       "      <td>8.000000e+05</td>\n",
       "      <td>0.000000</td>\n",
       "      <td>21.000000</td>\n",
       "      <td>1.000000</td>\n",
       "      <td>1.000000</td>\n",
       "      <td>1.000000</td>\n",
       "      <td>0.000000</td>\n",
       "      <td>0.000000</td>\n",
       "      <td>0.000000</td>\n",
       "      <td>...</td>\n",
       "      <td>0.000000</td>\n",
       "      <td>1.000000</td>\n",
       "      <td>19.000000</td>\n",
       "      <td>0.000000</td>\n",
       "      <td>0.000000</td>\n",
       "      <td>14.000000</td>\n",
       "      <td>4.000000</td>\n",
       "      <td>29.000000</td>\n",
       "      <td>2.000000</td>\n",
       "      <td>2.000000</td>\n",
       "    </tr>\n",
       "    <tr>\n",
       "      <th>max</th>\n",
       "      <td>59.000000</td>\n",
       "      <td>1.000000e+08</td>\n",
       "      <td>6.000000</td>\n",
       "      <td>142.000000</td>\n",
       "      <td>9.000000</td>\n",
       "      <td>8.000000</td>\n",
       "      <td>26.000000</td>\n",
       "      <td>121.000000</td>\n",
       "      <td>44.000000</td>\n",
       "      <td>2.000000</td>\n",
       "      <td>...</td>\n",
       "      <td>195.000000</td>\n",
       "      <td>88.000000</td>\n",
       "      <td>846.000000</td>\n",
       "      <td>85.000000</td>\n",
       "      <td>44.000000</td>\n",
       "      <td>348.000000</td>\n",
       "      <td>176.000000</td>\n",
       "      <td>46.000000</td>\n",
       "      <td>3.000000</td>\n",
       "      <td>2.000000</td>\n",
       "    </tr>\n",
       "  </tbody>\n",
       "</table>\n",
       "<p>8 rows × 21 columns</p>\n",
       "</div>"
      ],
      "text/plain": [
       "       red_card_continent         price  own_goal_champ  yellow_card_champ  \\\n",
       "count         8854.000000  8.854000e+03     8854.000000        8854.000000   \n",
       "mean             0.246103  1.612051e+06        0.098938          14.754009   \n",
       "std              1.843374  5.881306e+06        0.361250          17.824661   \n",
       "min              0.000000  2.500000e+04        0.000000           0.000000   \n",
       "25%              0.000000  1.000000e+05        0.000000           2.000000   \n",
       "50%              0.000000  3.000000e+05        0.000000           8.000000   \n",
       "75%              0.000000  8.000000e+05        0.000000          21.000000   \n",
       "max             59.000000  1.000000e+08        6.000000         142.000000   \n",
       "\n",
       "       second_yellow_card_champ  red_card_champ  yellow_card_cup  \\\n",
       "count               8854.000000     8854.000000      8854.000000   \n",
       "mean                   0.424215        0.407499         0.857353   \n",
       "std                    0.918985        0.819930         1.992781   \n",
       "min                    0.000000        0.000000         0.000000   \n",
       "25%                    0.000000        0.000000         0.000000   \n",
       "50%                    0.000000        0.000000         0.000000   \n",
       "75%                    1.000000        1.000000         1.000000   \n",
       "max                    9.000000        8.000000        26.000000   \n",
       "\n",
       "       goal_continent  assist_continent  own_goal_continent  ...  \\\n",
       "count     8854.000000       8854.000000         8854.000000  ...   \n",
       "mean         0.479105          0.459002            0.008019  ...   \n",
       "std          2.190870          1.823347            0.095316  ...   \n",
       "min          0.000000          0.000000            0.000000  ...   \n",
       "25%          0.000000          0.000000            0.000000  ...   \n",
       "50%          0.000000          0.000000            0.000000  ...   \n",
       "75%          0.000000          0.000000            0.000000  ...   \n",
       "max        121.000000         44.000000            2.000000  ...   \n",
       "\n",
       "       second_yellow_card_continent  score_goal_cup  score_goal_champ  \\\n",
       "count                   8854.000000     8854.000000       8854.000000   \n",
       "mean                       0.973119        1.131522         15.196973   \n",
       "std                        6.366863        3.131815         27.757299   \n",
       "min                        0.000000        0.000000          0.000000   \n",
       "25%                        0.000000        0.000000          0.000000   \n",
       "50%                        0.000000        0.000000          4.000000   \n",
       "75%                        0.000000        1.000000         19.000000   \n",
       "max                      195.000000       88.000000        846.000000   \n",
       "\n",
       "       score_goals_selection  score_assist_cup  score_assist_champ  \\\n",
       "count            8854.000000       8854.000000         8854.000000   \n",
       "mean                0.580416          0.923537           12.026372   \n",
       "std                 2.522602          2.612913           22.397119   \n",
       "min                 0.000000          0.000000            0.000000   \n",
       "25%                 0.000000          0.000000            0.000000   \n",
       "50%                 0.000000          0.000000            3.000000   \n",
       "75%                 0.000000          0.000000           14.000000   \n",
       "max                85.000000         44.000000          348.000000   \n",
       "\n",
       "       score_selections_nation          age     position  code_league  \n",
       "count              8854.000000  8854.000000  8854.000000  8854.000000  \n",
       "mean                  5.707364    26.045968     1.684098     1.541450  \n",
       "std                  14.846162     4.564612     1.040544     0.744291  \n",
       "min                   0.000000    16.000000     0.000000     0.000000  \n",
       "25%                   0.000000    23.000000     1.000000     1.000000  \n",
       "50%                   0.000000    26.000000     2.000000     2.000000  \n",
       "75%                   4.000000    29.000000     2.000000     2.000000  \n",
       "max                 176.000000    46.000000     3.000000     2.000000  \n",
       "\n",
       "[8 rows x 21 columns]"
      ]
     },
     "execution_count": 157,
     "metadata": {},
     "output_type": "execute_result"
    }
   ],
   "source": [
    "df.describe()"
   ]
  },
  {
   "cell_type": "markdown",
   "metadata": {},
   "source": [
    "## values"
   ]
  },
  {
   "cell_type": "markdown",
   "metadata": {},
   "source": [
    "## Model handler"
   ]
  },
  {
   "cell_type": "markdown",
   "metadata": {},
   "source": [
    "### For each position"
   ]
  },
  {
   "cell_type": "markdown",
   "metadata": {},
   "source": [
    "Model to grid search in xgboost model. Performed in google colab, stored in this notebook just top hyperparmeters."
   ]
  },
  {
   "cell_type": "code",
   "execution_count": 12,
   "metadata": {},
   "outputs": [],
   "source": [
    "def model_for_position(df):\n",
    "    pos_mod = {}\n",
    "    pos = list(df.position.unique())\n",
    "    target = 'price'\n",
    "    for p in pos:\n",
    "        tmp = df[df.position == p]\n",
    "        pos_mod[p] = ModelHandler(X = tmp.drop(target, axis = 1).to_numpy(), Y = tmp[target].to_numpy(), model = 'XGB',scale = True)\n",
    "    return pos_mod"
   ]
  },
  {
   "cell_type": "code",
   "execution_count": 13,
   "metadata": {},
   "outputs": [],
   "source": [
    "models = model_for_position(df)"
   ]
  },
  {
   "cell_type": "code",
   "execution_count": 14,
   "metadata": {},
   "outputs": [
    {
     "data": {
      "text/plain": [
       "{0: <modelHandler.ModelHandler at 0x7f6d4016a790>,\n",
       " 3: <modelHandler.ModelHandler at 0x7f6d4016aa30>,\n",
       " 2: <modelHandler.ModelHandler at 0x7f6d4016a160>,\n",
       " 1: <modelHandler.ModelHandler at 0x7f6d4016ac40>}"
      ]
     },
     "execution_count": 14,
     "metadata": {},
     "output_type": "execute_result"
    }
   ],
   "source": [
    "models"
   ]
  },
  {
   "cell_type": "code",
   "execution_count": null,
   "metadata": {
    "collapsed": true,
    "jupyter": {
     "outputs_hidden": true
    },
    "tags": []
   },
   "outputs": [],
   "source": [
    "for model in models.values():\n",
    "    model.fit(with_score = False) #Perform grid search"
   ]
  },
  {
   "cell_type": "code",
   "execution_count": 30,
   "metadata": {},
   "outputs": [
    {
     "data": {
      "text/plain": [
       "{'colsample_bytree': 0.5,\n",
       " 'learning_rate': 0.001,\n",
       " 'max_depth': 24,\n",
       " 'n_estimators': 1000,\n",
       " 'subsample': 1.0}"
      ]
     },
     "execution_count": 30,
     "metadata": {},
     "output_type": "execute_result"
    }
   ],
   "source": [
    "models[0].grid.best_params_"
   ]
  },
  {
   "cell_type": "markdown",
   "metadata": {},
   "source": [
    "## Manage Models"
   ]
  },
  {
   "cell_type": "markdown",
   "metadata": {},
   "source": [
    "The data set is grouped by playing postions : goal keeper, defense, med and front and a model is trained for each of these.\n",
    "\n",
    "In the exposition we will explain futher this division. The code below allows us to train different models for each class automatically."
   ]
  },
  {
   "cell_type": "code",
   "execution_count": 16,
   "metadata": {},
   "outputs": [],
   "source": [
    "def model_for_position(df, model):\n",
    "    pos_mod = {}\n",
    "    pos_data_train = {}\n",
    "    pos_data_test = {}\n",
    "    pos = list(df.position.unique())\n",
    "    target = 'price'\n",
    "    for p in pos:\n",
    "        tmp = df[df.position == p]\n",
    "        pos_mod[p] = model \n",
    "        X_train, X_test, y_train, y_test = sk.model_selection.train_test_split(tmp.drop(target, axis = 1).to_numpy(), tmp[target].to_numpy(), test_size=0.20, random_state=42)\n",
    "        pos_data_train[p] = (X_train, y_train)\n",
    "        pos_data_test[p] = (X_test, y_test)\n",
    "\n",
    "    return pos_mod, pos_data_train, pos_data_test"
   ]
  },
  {
   "cell_type": "code",
   "execution_count": 18,
   "metadata": {},
   "outputs": [],
   "source": [
    "model = XGBRegressor(**{'colsample_bytree': 0.5, 'learning_rate': 0.001, 'max_depth': 24,  'n_estimators': 1000, 'subsample': 1.0}) #parameters from grid_search\n",
    "pos_mod, pos_data_train, pos_data_test = model_for_position(df, model)"
   ]
  },
  {
   "cell_type": "code",
   "execution_count": 58,
   "metadata": {},
   "outputs": [],
   "source": [
    "def train(pos_mod, pos_data_train, pos_data_test):\n",
    "    for k in pos_mod:\n",
    "        pos_mod[k].fit(pos_data_train[k][0], pos_data_train[k][1])\n",
    "        print(f\"INFO class {k} r2_score on train: {r2_score(pos_data_train[k][1], pos_mod[k].predict(pos_data_train[k][0]))}\")\n",
    "        print(f\"INFO class {k} r2_score on test: {r2_score(pos_data_test[k][1], pos_mod[k].predict(pos_data_test[k][0]))}\")"
   ]
  },
  {
   "cell_type": "code",
   "execution_count": 59,
   "metadata": {},
   "outputs": [
    {
     "name": "stdout",
     "output_type": "stream",
     "text": [
      "INFO class 0 mse on train: 0.6400827423972291\n",
      "INFO class 0 mse on test: 0.06123617287855354\n",
      "INFO class 3 mse on train: 0.7240723783322792\n",
      "INFO class 3 mse on test: 0.14084215687552815\n",
      "INFO class 2 mse on train: 0.73250647465481\n",
      "INFO class 2 mse on test: 0.2439396927447519\n",
      "INFO class 1 mse on train: 0.7081271512177367\n",
      "INFO class 1 mse on test: 0.08763043865793296\n"
     ]
    }
   ],
   "source": [
    "train(pos_mod, pos_data_train, pos_data_test)"
   ]
  },
  {
   "cell_type": "markdown",
   "metadata": {},
   "source": [
    "## Model DT regressor for each class"
   ]
  },
  {
   "cell_type": "code",
   "execution_count": 61,
   "metadata": {},
   "outputs": [],
   "source": [
    "from sklearn.tree import DecisionTreeRegressor"
   ]
  },
  {
   "cell_type": "code",
   "execution_count": 62,
   "metadata": {},
   "outputs": [],
   "source": [
    "model = DecisionTreeRegressor(criterion='squared_error', splitter='best', max_depth=64, min_samples_split=2, min_samples_leaf=1)"
   ]
  },
  {
   "cell_type": "code",
   "execution_count": 63,
   "metadata": {},
   "outputs": [],
   "source": [
    "pos_mod, pos_data_train, pos_data_test = model_for_position(df, model)"
   ]
  },
  {
   "cell_type": "code",
   "execution_count": 64,
   "metadata": {},
   "outputs": [
    {
     "name": "stdout",
     "output_type": "stream",
     "text": [
      "INFO class 0 mse on train: 0.999644998557037\n",
      "INFO class 0 mse on test: -3.529385895708625\n",
      "INFO class 3 mse on train: 0.9999976443159838\n",
      "INFO class 3 mse on test: 0.43067712817053794\n",
      "INFO class 2 mse on train: 0.9999986335145186\n",
      "INFO class 2 mse on test: 0.1397921555403735\n",
      "INFO class 1 mse on train: 0.9999997733950506\n",
      "INFO class 1 mse on test: -0.8644040147024907\n"
     ]
    }
   ],
   "source": [
    "train(pos_mod, pos_data_train, pos_data_test)"
   ]
  },
  {
   "cell_type": "markdown",
   "metadata": {},
   "source": [
    "## Test with Polynomial features and SS"
   ]
  },
  {
   "cell_type": "code",
   "execution_count": 65,
   "metadata": {},
   "outputs": [],
   "source": [
    "from sklearn.preprocessing import PolynomialFeatures\n",
    "from sklearn.preprocessing import StandardScaler"
   ]
  },
  {
   "cell_type": "code",
   "execution_count": 66,
   "metadata": {},
   "outputs": [],
   "source": [
    "def model_for_position_poly(df, model, n_poly = 2):\n",
    "    pos_mod = {}\n",
    "    pos_data_train = {}\n",
    "    pos_data_test = {}\n",
    "    pos = list(df.position.unique())\n",
    "    target = 'price'\n",
    "    for p in pos:\n",
    "        tmp = df[df.position == p]\n",
    "        poly = PolynomialFeatures(n_poly)\n",
    "        st = StandardScaler()\n",
    "        pos_mod[p] = model #**models[p].grid.best_params_)\n",
    "        X_train, X_test, y_train, y_test = sk.model_selection.train_test_split(tmp.drop(target, axis = 1).to_numpy(), tmp[target].to_numpy(), test_size=0.20, random_state=42)\n",
    "        poly.fit(X_train)\n",
    "        pos_data_train[p] = (st.fit_transform(poly.transform(X_train)), y_train)\n",
    "        pos_data_test[p] = (st.transform(poly.transform(X_test)), y_test)\n",
    "\n",
    "    return pos_mod, pos_data_train, pos_data_test"
   ]
  },
  {
   "cell_type": "code",
   "execution_count": null,
   "metadata": {},
   "outputs": [],
   "source": [
    "model = XGBRegressor(**{'colsample_bytree': 0.5, 'learning_rate': 0.001, 'max_depth': 24,  'n_estimators': 1000, 'subsample': 1.0})\n",
    "pos_mod, pos_data_train, pos_data_test = model_for_position_poly(df, model, n_poly = 2)\n",
    "train(pos_mod, pos_data_train, pos_data_test)"
   ]
  },
  {
   "cell_type": "markdown",
   "metadata": {},
   "source": [
    "## CatBooster Regressor Model for each class"
   ]
  },
  {
   "cell_type": "code",
   "execution_count": 158,
   "metadata": {},
   "outputs": [],
   "source": [
    "from catboost import CatBoostRegressor"
   ]
  },
  {
   "cell_type": "code",
   "execution_count": 159,
   "metadata": {},
   "outputs": [],
   "source": [
    "def model_for_position(df, model):\n",
    "    pos_mod = {}\n",
    "    pos_data_train = {}\n",
    "    pos_data_test = {}\n",
    "    pos = list(df.position.unique())\n",
    "    target = 'price'\n",
    "    for p in pos:\n",
    "        tmp = df[df.position == p]\n",
    "        pos_mod[p] = model \n",
    "        if p != 2:\n",
    "            tmp = tmp.drop(cols_to_drop[p],axis = 1) # try\n",
    "        X_train, X_test, y_train, y_test = sk.model_selection.train_test_split(tmp.drop(target, axis = 1).to_numpy(), tmp[target].to_numpy(), test_size=0.20, random_state=42)\n",
    "        pos_data_train[p] = (X_train, y_train)\n",
    "        pos_data_test[p] = (X_test, y_test)\n",
    "\n",
    "    return pos_mod, pos_data_train, pos_data_test\n",
    "\n",
    "def train(pos_mod, pos_data_train, pos_data_test):\n",
    "    for k in pos_mod:\n",
    "        pos_mod[k].fit(pos_data_train[k][0], pos_data_train[k][1])\n",
    "        print(f\"INFO class {k} r2_score on train: {r2_score(pos_data_train[k][1], pos_mod[k].predict(pos_data_train[k][0]))}\")\n",
    "        print(f\"INFO class {k} r2_score on test: {r2_score(pos_data_test[k][1], pos_mod[k].predict(pos_data_test[k][0]))}\")"
   ]
  },
  {
   "cell_type": "code",
   "execution_count": 160,
   "metadata": {},
   "outputs": [],
   "source": [
    "model = CatBoostRegressor(iterations=10000,\n",
    "                          learning_rate=1e-3,\n",
    "                          depth=12, nan_mode = 'Min', verbose = 0, l2_leaf_reg = 3, border_count = 254,  random_strength = 1, max_ctr_complexity = 2) # loss_function = 'rmse',"
   ]
  },
  {
   "cell_type": "code",
   "execution_count": 161,
   "metadata": {},
   "outputs": [
    {
     "name": "stdout",
     "output_type": "stream",
     "text": [
      "INFO class 0 mse on train: 0.951875042281766\n",
      "INFO class 0 mse on test: 0.44174851994972053\n",
      "INFO class 3 mse on train: 0.9698938412490564\n",
      "INFO class 3 mse on test: 0.3844712015481895\n"
     ]
    },
    {
     "ename": "CatBoostError",
     "evalue": "Bad value for num_feature[non_default_doc_idx=0,feature_idx=17]=\"AzadeganLeague\": Cannot convert 'b'AzadeganLeague'' to float",
     "output_type": "error",
     "traceback": [
      "\u001b[0;31m---------------------------------------------------------------------------\u001b[0m",
      "\u001b[0;31mTypeError\u001b[0m                                 Traceback (most recent call last)",
      "\u001b[0;32m_catboost.pyx\u001b[0m in \u001b[0;36m_catboost.get_float_feature\u001b[0;34m()\u001b[0m\n",
      "\u001b[0;32m_catboost.pyx\u001b[0m in \u001b[0;36m_catboost._FloatOrNan\u001b[0;34m()\u001b[0m\n",
      "\u001b[0;32m_catboost.pyx\u001b[0m in \u001b[0;36m_catboost._FloatOrNanFromString\u001b[0;34m()\u001b[0m\n",
      "\u001b[0;31mTypeError\u001b[0m: Cannot convert 'b'AzadeganLeague'' to float",
      "\nDuring handling of the above exception, another exception occurred:\n",
      "\u001b[0;31mCatBoostError\u001b[0m                             Traceback (most recent call last)",
      "\u001b[0;32m/tmp/ipykernel_35213/4151079969.py\u001b[0m in \u001b[0;36m<module>\u001b[0;34m\u001b[0m\n\u001b[1;32m      1\u001b[0m \u001b[0mpos_mod\u001b[0m\u001b[0;34m,\u001b[0m \u001b[0mpos_data_train\u001b[0m\u001b[0;34m,\u001b[0m \u001b[0mpos_data_test\u001b[0m \u001b[0;34m=\u001b[0m \u001b[0mmodel_for_position\u001b[0m\u001b[0;34m(\u001b[0m\u001b[0mdf\u001b[0m\u001b[0;34m,\u001b[0m \u001b[0mmodel\u001b[0m\u001b[0;34m)\u001b[0m\u001b[0;34m\u001b[0m\u001b[0;34m\u001b[0m\u001b[0m\n\u001b[0;32m----> 2\u001b[0;31m \u001b[0mtrain\u001b[0m\u001b[0;34m(\u001b[0m\u001b[0mpos_mod\u001b[0m\u001b[0;34m,\u001b[0m \u001b[0mpos_data_train\u001b[0m\u001b[0;34m,\u001b[0m \u001b[0mpos_data_test\u001b[0m\u001b[0;34m)\u001b[0m\u001b[0;34m\u001b[0m\u001b[0;34m\u001b[0m\u001b[0m\n\u001b[0m",
      "\u001b[0;32m/tmp/ipykernel_35213/65644815.py\u001b[0m in \u001b[0;36mtrain\u001b[0;34m(pos_mod, pos_data_train, pos_data_test)\u001b[0m\n\u001b[1;32m     18\u001b[0m \u001b[0;32mdef\u001b[0m \u001b[0mtrain\u001b[0m\u001b[0;34m(\u001b[0m\u001b[0mpos_mod\u001b[0m\u001b[0;34m,\u001b[0m \u001b[0mpos_data_train\u001b[0m\u001b[0;34m,\u001b[0m \u001b[0mpos_data_test\u001b[0m\u001b[0;34m)\u001b[0m\u001b[0;34m:\u001b[0m\u001b[0;34m\u001b[0m\u001b[0;34m\u001b[0m\u001b[0m\n\u001b[1;32m     19\u001b[0m     \u001b[0;32mfor\u001b[0m \u001b[0mk\u001b[0m \u001b[0;32min\u001b[0m \u001b[0mpos_mod\u001b[0m\u001b[0;34m:\u001b[0m\u001b[0;34m\u001b[0m\u001b[0;34m\u001b[0m\u001b[0m\n\u001b[0;32m---> 20\u001b[0;31m         \u001b[0mpos_mod\u001b[0m\u001b[0;34m[\u001b[0m\u001b[0mk\u001b[0m\u001b[0;34m]\u001b[0m\u001b[0;34m.\u001b[0m\u001b[0mfit\u001b[0m\u001b[0;34m(\u001b[0m\u001b[0mpos_data_train\u001b[0m\u001b[0;34m[\u001b[0m\u001b[0mk\u001b[0m\u001b[0;34m]\u001b[0m\u001b[0;34m[\u001b[0m\u001b[0;36m0\u001b[0m\u001b[0;34m]\u001b[0m\u001b[0;34m,\u001b[0m \u001b[0mpos_data_train\u001b[0m\u001b[0;34m[\u001b[0m\u001b[0mk\u001b[0m\u001b[0;34m]\u001b[0m\u001b[0;34m[\u001b[0m\u001b[0;36m1\u001b[0m\u001b[0;34m]\u001b[0m\u001b[0;34m)\u001b[0m\u001b[0;34m\u001b[0m\u001b[0;34m\u001b[0m\u001b[0m\n\u001b[0m\u001b[1;32m     21\u001b[0m         \u001b[0mprint\u001b[0m\u001b[0;34m(\u001b[0m\u001b[0;34mf\"INFO class {k} mse on train: {r2_score(pos_data_train[k][1], pos_mod[k].predict(pos_data_train[k][0]))}\"\u001b[0m\u001b[0;34m)\u001b[0m\u001b[0;34m\u001b[0m\u001b[0;34m\u001b[0m\u001b[0m\n\u001b[1;32m     22\u001b[0m         \u001b[0mprint\u001b[0m\u001b[0;34m(\u001b[0m\u001b[0;34mf\"INFO class {k} mse on test: {r2_score(pos_data_test[k][1], pos_mod[k].predict(pos_data_test[k][0]))}\"\u001b[0m\u001b[0;34m)\u001b[0m\u001b[0;34m\u001b[0m\u001b[0;34m\u001b[0m\u001b[0m\n",
      "\u001b[0;32m~/.local/lib/python3.8/site-packages/catboost/core.py\u001b[0m in \u001b[0;36mfit\u001b[0;34m(self, X, y, cat_features, sample_weight, baseline, use_best_model, eval_set, verbose, logging_level, plot, column_description, verbose_eval, metric_period, silent, early_stopping_rounds, save_snapshot, snapshot_file, snapshot_interval, init_model, callbacks, log_cout, log_cerr)\u001b[0m\n\u001b[1;32m   5588\u001b[0m             \u001b[0mCatBoostRegressor\u001b[0m\u001b[0;34m.\u001b[0m\u001b[0m_check_is_compatible_loss\u001b[0m\u001b[0;34m(\u001b[0m\u001b[0mparams\u001b[0m\u001b[0;34m[\u001b[0m\u001b[0;34m'loss_function'\u001b[0m\u001b[0;34m]\u001b[0m\u001b[0;34m)\u001b[0m\u001b[0;34m\u001b[0m\u001b[0;34m\u001b[0m\u001b[0m\n\u001b[1;32m   5589\u001b[0m \u001b[0;34m\u001b[0m\u001b[0m\n\u001b[0;32m-> 5590\u001b[0;31m         return self._fit(X, y, cat_features, None, None, None, sample_weight, None, None, None, None, baseline,\n\u001b[0m\u001b[1;32m   5591\u001b[0m                          \u001b[0muse_best_model\u001b[0m\u001b[0;34m,\u001b[0m \u001b[0meval_set\u001b[0m\u001b[0;34m,\u001b[0m \u001b[0mverbose\u001b[0m\u001b[0;34m,\u001b[0m \u001b[0mlogging_level\u001b[0m\u001b[0;34m,\u001b[0m \u001b[0mplot\u001b[0m\u001b[0;34m,\u001b[0m \u001b[0mcolumn_description\u001b[0m\u001b[0;34m,\u001b[0m\u001b[0;34m\u001b[0m\u001b[0;34m\u001b[0m\u001b[0m\n\u001b[1;32m   5592\u001b[0m                          \u001b[0mverbose_eval\u001b[0m\u001b[0;34m,\u001b[0m \u001b[0mmetric_period\u001b[0m\u001b[0;34m,\u001b[0m \u001b[0msilent\u001b[0m\u001b[0;34m,\u001b[0m \u001b[0mearly_stopping_rounds\u001b[0m\u001b[0;34m,\u001b[0m\u001b[0;34m\u001b[0m\u001b[0;34m\u001b[0m\u001b[0m\n",
      "\u001b[0;32m~/.local/lib/python3.8/site-packages/catboost/core.py\u001b[0m in \u001b[0;36m_fit\u001b[0;34m(self, X, y, cat_features, text_features, embedding_features, pairs, sample_weight, group_id, group_weight, subgroup_id, pairs_weight, baseline, use_best_model, eval_set, verbose, logging_level, plot, column_description, verbose_eval, metric_period, silent, early_stopping_rounds, save_snapshot, snapshot_file, snapshot_interval, init_model, callbacks, log_cout, log_cerr)\u001b[0m\n\u001b[1;32m   2260\u001b[0m             \u001b[0;32mraise\u001b[0m \u001b[0mCatBoostError\u001b[0m\u001b[0;34m(\u001b[0m\u001b[0;34m\"y may be None only when X is an instance of catboost.Pool or string\"\u001b[0m\u001b[0;34m)\u001b[0m\u001b[0;34m\u001b[0m\u001b[0;34m\u001b[0m\u001b[0m\n\u001b[1;32m   2261\u001b[0m \u001b[0;34m\u001b[0m\u001b[0m\n\u001b[0;32m-> 2262\u001b[0;31m         train_params = self._prepare_train_params(\n\u001b[0m\u001b[1;32m   2263\u001b[0m             \u001b[0mX\u001b[0m\u001b[0;34m=\u001b[0m\u001b[0mX\u001b[0m\u001b[0;34m,\u001b[0m \u001b[0my\u001b[0m\u001b[0;34m=\u001b[0m\u001b[0my\u001b[0m\u001b[0;34m,\u001b[0m \u001b[0mcat_features\u001b[0m\u001b[0;34m=\u001b[0m\u001b[0mcat_features\u001b[0m\u001b[0;34m,\u001b[0m \u001b[0mtext_features\u001b[0m\u001b[0;34m=\u001b[0m\u001b[0mtext_features\u001b[0m\u001b[0;34m,\u001b[0m \u001b[0membedding_features\u001b[0m\u001b[0;34m=\u001b[0m\u001b[0membedding_features\u001b[0m\u001b[0;34m,\u001b[0m\u001b[0;34m\u001b[0m\u001b[0;34m\u001b[0m\u001b[0m\n\u001b[1;32m   2264\u001b[0m             \u001b[0mpairs\u001b[0m\u001b[0;34m=\u001b[0m\u001b[0mpairs\u001b[0m\u001b[0;34m,\u001b[0m \u001b[0msample_weight\u001b[0m\u001b[0;34m=\u001b[0m\u001b[0msample_weight\u001b[0m\u001b[0;34m,\u001b[0m \u001b[0mgroup_id\u001b[0m\u001b[0;34m=\u001b[0m\u001b[0mgroup_id\u001b[0m\u001b[0;34m,\u001b[0m \u001b[0mgroup_weight\u001b[0m\u001b[0;34m=\u001b[0m\u001b[0mgroup_weight\u001b[0m\u001b[0;34m,\u001b[0m\u001b[0;34m\u001b[0m\u001b[0;34m\u001b[0m\u001b[0m\n",
      "\u001b[0;32m~/.local/lib/python3.8/site-packages/catboost/core.py\u001b[0m in \u001b[0;36m_prepare_train_params\u001b[0;34m(self, X, y, cat_features, text_features, embedding_features, pairs, sample_weight, group_id, group_weight, subgroup_id, pairs_weight, baseline, use_best_model, eval_set, verbose, logging_level, plot, column_description, verbose_eval, metric_period, silent, early_stopping_rounds, save_snapshot, snapshot_file, snapshot_interval, init_model, callbacks)\u001b[0m\n\u001b[1;32m   2146\u001b[0m         \u001b[0membedding_features\u001b[0m \u001b[0;34m=\u001b[0m \u001b[0m_process_feature_indices\u001b[0m\u001b[0;34m(\u001b[0m\u001b[0membedding_features\u001b[0m\u001b[0;34m,\u001b[0m \u001b[0mX\u001b[0m\u001b[0;34m,\u001b[0m \u001b[0mparams\u001b[0m\u001b[0;34m,\u001b[0m \u001b[0;34m'embedding_features'\u001b[0m\u001b[0;34m)\u001b[0m\u001b[0;34m\u001b[0m\u001b[0;34m\u001b[0m\u001b[0m\n\u001b[1;32m   2147\u001b[0m \u001b[0;34m\u001b[0m\u001b[0m\n\u001b[0;32m-> 2148\u001b[0;31m         train_pool = _build_train_pool(X, y, cat_features, text_features, embedding_features, pairs,\n\u001b[0m\u001b[1;32m   2149\u001b[0m                                        \u001b[0msample_weight\u001b[0m\u001b[0;34m,\u001b[0m \u001b[0mgroup_id\u001b[0m\u001b[0;34m,\u001b[0m \u001b[0mgroup_weight\u001b[0m\u001b[0;34m,\u001b[0m \u001b[0msubgroup_id\u001b[0m\u001b[0;34m,\u001b[0m \u001b[0mpairs_weight\u001b[0m\u001b[0;34m,\u001b[0m\u001b[0;34m\u001b[0m\u001b[0;34m\u001b[0m\u001b[0m\n\u001b[1;32m   2150\u001b[0m                                        baseline, column_description)\n",
      "\u001b[0;32m~/.local/lib/python3.8/site-packages/catboost/core.py\u001b[0m in \u001b[0;36m_build_train_pool\u001b[0;34m(X, y, cat_features, text_features, embedding_features, pairs, sample_weight, group_id, group_weight, subgroup_id, pairs_weight, baseline, column_description)\u001b[0m\n\u001b[1;32m   1428\u001b[0m         \u001b[0;32mif\u001b[0m \u001b[0my\u001b[0m \u001b[0;32mis\u001b[0m \u001b[0;32mNone\u001b[0m\u001b[0;34m:\u001b[0m\u001b[0;34m\u001b[0m\u001b[0;34m\u001b[0m\u001b[0m\n\u001b[1;32m   1429\u001b[0m             \u001b[0;32mraise\u001b[0m \u001b[0mCatBoostError\u001b[0m\u001b[0;34m(\u001b[0m\u001b[0;34m\"y has not initialized in fit(): X is not catboost.Pool object, y must be not None in fit().\"\u001b[0m\u001b[0;34m)\u001b[0m\u001b[0;34m\u001b[0m\u001b[0;34m\u001b[0m\u001b[0m\n\u001b[0;32m-> 1430\u001b[0;31m         train_pool = Pool(X, y, cat_features=cat_features, text_features=text_features, embedding_features=embedding_features, pairs=pairs, weight=sample_weight, group_id=group_id,\n\u001b[0m\u001b[1;32m   1431\u001b[0m                           group_weight=group_weight, subgroup_id=subgroup_id, pairs_weight=pairs_weight, baseline=baseline)\n\u001b[1;32m   1432\u001b[0m     \u001b[0;32mreturn\u001b[0m \u001b[0mtrain_pool\u001b[0m\u001b[0;34m\u001b[0m\u001b[0;34m\u001b[0m\u001b[0m\n",
      "\u001b[0;32m~/.local/lib/python3.8/site-packages/catboost/core.py\u001b[0m in \u001b[0;36m__init__\u001b[0;34m(self, data, label, cat_features, text_features, embedding_features, embedding_features_data, column_description, pairs, delimiter, has_header, ignore_csv_quoting, weight, group_id, group_weight, subgroup_id, pairs_weight, baseline, timestamp, feature_names, feature_tags, thread_count, log_cout, log_cerr)\u001b[0m\n\u001b[1;32m    788\u001b[0m                     )\n\u001b[1;32m    789\u001b[0m \u001b[0;34m\u001b[0m\u001b[0m\n\u001b[0;32m--> 790\u001b[0;31m                 self._init(data, label, cat_features, text_features, embedding_features, embedding_features_data, pairs, weight,\n\u001b[0m\u001b[1;32m    791\u001b[0m                            group_id, group_weight, subgroup_id, pairs_weight, baseline, timestamp, feature_names, feature_tags, thread_count)\n\u001b[1;32m    792\u001b[0m         \u001b[0msuper\u001b[0m\u001b[0;34m(\u001b[0m\u001b[0mPool\u001b[0m\u001b[0;34m,\u001b[0m \u001b[0mself\u001b[0m\u001b[0;34m)\u001b[0m\u001b[0;34m.\u001b[0m\u001b[0m__init__\u001b[0m\u001b[0;34m(\u001b[0m\u001b[0;34m)\u001b[0m\u001b[0;34m\u001b[0m\u001b[0;34m\u001b[0m\u001b[0m\n",
      "\u001b[0;32m~/.local/lib/python3.8/site-packages/catboost/core.py\u001b[0m in \u001b[0;36m_init\u001b[0;34m(self, data, label, cat_features, text_features, embedding_features, embedding_features_data, pairs, weight, group_id, group_weight, subgroup_id, pairs_weight, baseline, timestamp, feature_names, feature_tags, thread_count)\u001b[0m\n\u001b[1;32m   1409\u001b[0m         \u001b[0;32mif\u001b[0m \u001b[0mfeature_tags\u001b[0m \u001b[0;32mis\u001b[0m \u001b[0;32mnot\u001b[0m \u001b[0;32mNone\u001b[0m\u001b[0;34m:\u001b[0m\u001b[0;34m\u001b[0m\u001b[0;34m\u001b[0m\u001b[0m\n\u001b[1;32m   1410\u001b[0m             \u001b[0mfeature_tags\u001b[0m \u001b[0;34m=\u001b[0m \u001b[0mself\u001b[0m\u001b[0;34m.\u001b[0m\u001b[0m_check_transform_tags\u001b[0m\u001b[0;34m(\u001b[0m\u001b[0mfeature_tags\u001b[0m\u001b[0;34m,\u001b[0m \u001b[0mfeature_names\u001b[0m\u001b[0;34m)\u001b[0m\u001b[0;34m\u001b[0m\u001b[0;34m\u001b[0m\u001b[0m\n\u001b[0;32m-> 1411\u001b[0;31m         self._init_pool(data, label, cat_features, text_features, embedding_features, embedding_features_data, pairs, weight,\n\u001b[0m\u001b[1;32m   1412\u001b[0m                         group_id, group_weight, subgroup_id, pairs_weight, baseline, timestamp, feature_names, feature_tags, thread_count)\n\u001b[1;32m   1413\u001b[0m \u001b[0;34m\u001b[0m\u001b[0m\n",
      "\u001b[0;32m_catboost.pyx\u001b[0m in \u001b[0;36m_catboost._PoolBase._init_pool\u001b[0;34m()\u001b[0m\n",
      "\u001b[0;32m_catboost.pyx\u001b[0m in \u001b[0;36m_catboost._PoolBase._init_pool\u001b[0;34m()\u001b[0m\n",
      "\u001b[0;32m_catboost.pyx\u001b[0m in \u001b[0;36m_catboost._PoolBase._init_objects_order_layout_pool\u001b[0;34m()\u001b[0m\n",
      "\u001b[0;32m_catboost.pyx\u001b[0m in \u001b[0;36m_catboost._set_data\u001b[0;34m()\u001b[0m\n",
      "\u001b[0;32m_catboost.pyx\u001b[0m in \u001b[0;36m_catboost._set_data_from_generic_matrix\u001b[0;34m()\u001b[0m\n",
      "\u001b[0;32m_catboost.pyx\u001b[0m in \u001b[0;36m_catboost.get_float_feature\u001b[0;34m()\u001b[0m\n",
      "\u001b[0;31mCatBoostError\u001b[0m: Bad value for num_feature[non_default_doc_idx=0,feature_idx=17]=\"AzadeganLeague\": Cannot convert 'b'AzadeganLeague'' to float"
     ]
    }
   ],
   "source": [
    "pos_mod, pos_data_train, pos_data_test = model_for_position(df, model)\n",
    "train(pos_mod, pos_data_train, pos_data_test)\n",
    "#error on print, error is r2_score"
   ]
  }
 ],
 "metadata": {
  "kernelspec": {
   "display_name": "Python 3 (ipykernel)",
   "language": "python",
   "name": "python3"
  },
  "language_info": {
   "codemirror_mode": {
    "name": "ipython",
    "version": 3
   },
   "file_extension": ".py",
   "mimetype": "text/x-python",
   "name": "python",
   "nbconvert_exporter": "python",
   "pygments_lexer": "ipython3",
   "version": "3.8.10"
  },
  "vscode": {
   "interpreter": {
    "hash": "916dbcbb3f70747c44a77c7bcd40155683ae19c65e1c03b4aa3499c5328201f1"
   }
  }
 },
 "nbformat": 4,
 "nbformat_minor": 4
}
